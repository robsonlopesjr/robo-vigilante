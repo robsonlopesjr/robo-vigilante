{
 "cells": [
  {
   "cell_type": "markdown",
   "id": "d5355376-7a59-4154-a82d-6405d0156e89",
   "metadata": {},
   "source": [
    "# Projeto 1: Report de mercado\n",
    "\n",
    "### Desafio:\n",
    "\n",
    "* Criar um robô que automatiza um relatório de fechamento de mercado através da coleta de cotações históricas do Ibovespa, S&P500, Dólar e BTC, enviando o report diário através de uma ferramenta de e-mail. \n",
    "\n",
    "### Passo a passo:\n",
    "\n",
    "*   **Passo 1** - Instalar e importar os módulos e bibliotecas.\n",
    "   \n",
    "   \n",
    "*   **Passo 2** - Pegar as cotações históricas.\n",
    "   \n",
    "   \n",
    "*   **Passo 3** - Tratar dados coletados.\n",
    "   \n",
    "   \n",
    "*   **Passo 4** - Criar gráficos de performance.\n",
    "   \n",
    "   \n",
    "*   **Passo 5** - Calcular retornos diários.\n",
    "   \n",
    "   \n",
    "*   **Passo 6** - Configurar e enviar o e-mail. \n",
    "   \n",
    "-------------------"
   ]
  },
  {
   "cell_type": "markdown",
   "id": "ef8505e8-178d-4615-b4f0-b498d9fb298e",
   "metadata": {},
   "source": [
    "# Passo 1 - Instalar e importar os módulos e bibliotecas."
   ]
  },
  {
   "cell_type": "code",
   "execution_count": null,
   "id": "853153e5-b446-42e4-b2ea-67d6ce36a103",
   "metadata": {},
   "outputs": [],
   "source": [
    "!pip install appscript "
   ]
  },
  {
   "cell_type": "code",
   "execution_count": null,
   "id": "5bce580f-1e45-4b2b-b338-44199391a734",
   "metadata": {},
   "outputs": [],
   "source": [
    "!pip install mplcyberpunk"
   ]
  },
  {
   "cell_type": "code",
   "execution_count": null,
   "id": "0ebd28b2-c49a-4a00-9e78-392b3f83eb39",
   "metadata": {},
   "outputs": [],
   "source": [
    "!pip install yfinance"
   ]
  },
  {
   "cell_type": "code",
   "execution_count": null,
   "id": "92711384-2dfa-43e4-ba09-1c25623e7b56",
   "metadata": {},
   "outputs": [],
   "source": [
    "import yfinance as yf\n",
    "import pandas as pd\n",
    "import matplotlib.pyplot as plt\n",
    "import mplcyberpunk"
   ]
  },
  {
   "cell_type": "markdown",
   "id": "c41ae13e-6948-4e4e-8543-572828ab6a3c",
   "metadata": {},
   "source": [
    "# Passo 2 - Pegar as cotações históricas"
   ]
  },
  {
   "cell_type": "code",
   "execution_count": null,
   "id": "969005bd-2d4b-4c66-8b0e-26f6cf409ee4",
   "metadata": {},
   "outputs": [],
   "source": [
    "tickers = ['^BVSP', '^GSPC', \"BRL=X\", \"BTC-USD\"]\n",
    "\n",
    "dados_mercado = yf.download(tickers, period = \"6mo\")\n",
    "dados_mercado = dados_mercado[\"Adj Close\"]\n",
    "dados_mercado"
   ]
  },
  {
   "cell_type": "markdown",
   "id": "e76d0dd9-84dc-4f76-8273-5c5cd9c63166",
   "metadata": {},
   "source": [
    "# Passo 3 - Tratar dados coletados."
   ]
  },
  {
   "cell_type": "code",
   "execution_count": null,
   "id": "a61ba6f9-f42f-44b5-80e3-9d414fe5fa8d",
   "metadata": {},
   "outputs": [],
   "source": [
    "dados_mercado = dados_mercado.dropna()"
   ]
  },
  {
   "cell_type": "code",
   "execution_count": null,
   "id": "d10d22d9-105d-4c87-9d5d-d53b229c0de3",
   "metadata": {},
   "outputs": [],
   "source": [
    "dados_mercado.columns = [\"DOLAR\", \"BTC\", \"IBOVESPA\", \"S&P500\"]"
   ]
  },
  {
   "cell_type": "markdown",
   "id": "0e4b7ce7-589c-49c5-997d-9b1567cb3db5",
   "metadata": {},
   "source": [
    "# Passo 4 - Criar gráficos de performance."
   ]
  },
  {
   "cell_type": "code",
   "execution_count": null,
   "id": "60aff313-089a-425f-b328-e71bd745313f",
   "metadata": {},
   "outputs": [],
   "source": [
    "plt.style.use(\"cyberpunk\")"
   ]
  },
  {
   "cell_type": "code",
   "execution_count": null,
   "id": "a17d5a37-b138-433d-b28a-06046e0c2386",
   "metadata": {},
   "outputs": [],
   "source": [
    "plt.plot(dados_mercado[\"IBOVESPA\"])\n",
    "plt.title(\"IBOVESPA\")\n",
    "\n",
    "plt.savefig(\"ibovespa.png\")"
   ]
  },
  {
   "cell_type": "code",
   "execution_count": null,
   "id": "53b97690-e9e4-46aa-a6e5-9e25e76ee956",
   "metadata": {},
   "outputs": [],
   "source": [
    "plt.plot(dados_mercado[\"DOLAR\"])\n",
    "plt.title(\"DÓLAR\")\n",
    "\n",
    "plt.savefig(\"dolar.png\")"
   ]
  },
  {
   "cell_type": "code",
   "execution_count": null,
   "id": "0c83e074-14e0-478f-9832-0f7fb575c763",
   "metadata": {},
   "outputs": [],
   "source": [
    "plt.plot(dados_mercado[\"S&P500\"])\n",
    "plt.title(\"S&P500\")\n",
    "\n",
    "plt.savefig(\"sp.png\")"
   ]
  },
  {
   "cell_type": "code",
   "execution_count": null,
   "id": "d939874a-3163-4f89-8dd4-3826b8a38b69",
   "metadata": {},
   "outputs": [],
   "source": [
    "plt.plot(dados_mercado[\"BTC\"])\n",
    "plt.title(\"BTC\")\n",
    "\n",
    "plt.savefig(\"btc.png\")"
   ]
  },
  {
   "cell_type": "markdown",
   "id": "79f9baa1-bb6f-4b71-a421-c8f7d9790e21",
   "metadata": {},
   "source": [
    "# Passo 5 - Calcular retornos diários."
   ]
  },
  {
   "cell_type": "code",
   "execution_count": null,
   "id": "a7f47c8d-589c-4063-ad99-885c9fa38898",
   "metadata": {},
   "outputs": [],
   "source": [
    "retornos_diarios = dados_mercado.pct_change()\n",
    "\n",
    "retornos_diarios"
   ]
  },
  {
   "cell_type": "code",
   "execution_count": null,
   "id": "a4813b92-7d96-4262-9450-350b54be8e94",
   "metadata": {},
   "outputs": [],
   "source": [
    "retorno_dolar = retornos_diarios[\"DOLAR\"].iloc[-1]\n",
    "retorno_ibovespa = retornos_diarios[\"IBOVESPA\"].iloc[-1]\n",
    "retorno_sp = retornos_diarios[\"S&P500\"].iloc[-1]\n",
    "retorno_btc = retornos_diarios[\"BTC\"].iloc[-1]\n",
    "\n",
    "retorno_dolar"
   ]
  },
  {
   "cell_type": "code",
   "execution_count": null,
   "id": "214a25de-dbc9-496c-967b-6000efc70cd7",
   "metadata": {},
   "outputs": [],
   "source": [
    "retorno_dolar = str(round(retorno_dolar * 100, 2)) + \"%\"\n",
    "retorno_ibovespa = str(round(retorno_ibovespa * 100, 2)) + \"%\"\n",
    "retorno_sp = str(round(retorno_sp * 100, 2)) + \"%\"\n",
    "retorno_btc = str(round(retorno_btc * 100, 2)) + \"%\"\n",
    "\n",
    "retorno_dolar"
   ]
  },
  {
   "cell_type": "markdown",
   "id": "efda1f6d-41c4-4f9d-9886-88e9533604cb",
   "metadata": {},
   "source": [
    "# Passo 6 - Configurar e enviar o e-mail"
   ]
  },
  {
   "cell_type": "code",
   "execution_count": null,
   "id": "6d572480-62f5-4408-86f4-f5a418b774b4",
   "metadata": {},
   "outputs": [],
   "source": [
    "from appscript import app, k, mactypes"
   ]
  },
  {
   "cell_type": "code",
   "execution_count": null,
   "id": "0063304e-4eef-4ca8-ad6d-8389821468da",
   "metadata": {},
   "outputs": [],
   "source": [
    "mail = app('Mail')\n",
    "\n",
    "# Criar uma nova mensagem\n",
    "nova_mensagem = mail.make(new=k.outgoing_message)"
   ]
  },
  {
   "cell_type": "code",
   "execution_count": null,
   "id": "8b155dd3-5b62-4107-ae6e-a0f4ae2a08b7",
   "metadata": {},
   "outputs": [],
   "source": [
    "nova_mensagem.subject.set(\"Relatório de Mercado\")"
   ]
  },
  {
   "cell_type": "code",
   "execution_count": null,
   "id": "ee92c42d-1375-499e-ac60-e33f2672bb78",
   "metadata": {},
   "outputs": [],
   "source": [
    "nova_mensagem.content.set(f'''Prezado diretor, segue o relatório de mercado:\n",
    "\n",
    "* O Ibovespa teve o retorno de {retorno_ibovespa}.\n",
    "* O Dólar teve o retorno de {retorno_dolar}.\n",
    "* O S&P500 teve o retorno de {retorno_sp}.\n",
    "* O BTC teve o retorno de {retorno_btc}.\n",
    "\n",
    "Segue em anexo a peformance dos ativos nos últimos 6 meses.\n",
    "\n",
    "Att,\n",
    "Melhor estagiário do mundo\n",
    "\n",
    "\n",
    "''')"
   ]
  },
  {
   "cell_type": "code",
   "execution_count": null,
   "id": "974ea46c-daa8-45af-a25f-68ccaee7a813",
   "metadata": {},
   "outputs": [],
   "source": [
    "nova_mensagem.sender.set(\"SEUICLOUD@icloud.com\")"
   ]
  },
  {
   "cell_type": "code",
   "execution_count": null,
   "id": "16b943a5-4cf6-4894-9be3-2a8a5132850c",
   "metadata": {},
   "outputs": [],
   "source": [
    "nova_mensagem.make(new=k.to_recipient, with_properties={k.address: \"e-mail destinatario\"})"
   ]
  },
  {
   "cell_type": "code",
   "execution_count": null,
   "id": "c51293d4-3101-45b7-a7f3-4fa2caae3f20",
   "metadata": {},
   "outputs": [],
   "source": [
    "attachment = mactypes.File(\"exemplo/seucaminho/pastaqualquer/dolar.png\")\n",
    "nova_mensagem.make(new=k.attachment, with_properties={k.file_name: attachment})\n",
    "attachment = mactypes.File(\"CAMINHO_DO_SEU_PC/ibovespa.png\")\n",
    "nova_mensagem.make(new=k.attachment, with_properties={k.file_name: attachment})\n",
    "attachment = mactypes.File(\"CAMINHO_DO_SEU_PC/sp.png\")\n",
    "nova_mensagem.make(new=k.attachment, with_properties={k.file_name: attachment})\n",
    "attachment = mactypes.File(\"CAMINHO_DO__SEU_PC/btc.png\")\n",
    "nova_mensagem.make(new=k.attachment, with_properties={k.file_name: attachment})"
   ]
  },
  {
   "cell_type": "code",
   "execution_count": null,
   "id": "2910af43-bad7-4c90-b30a-2f284a2a0c73",
   "metadata": {},
   "outputs": [],
   "source": [
    "# Enviar a mensagem\n",
    "nova_mensagem.send()"
   ]
  },
  {
   "cell_type": "code",
   "execution_count": null,
   "id": "0ee49818-a025-4376-aa35-0fd8f01ab89b",
   "metadata": {},
   "outputs": [],
   "source": []
  },
  {
   "cell_type": "code",
   "execution_count": null,
   "id": "1dd5f37a-5bda-44eb-87ee-71e32c86a19a",
   "metadata": {},
   "outputs": [],
   "source": []
  },
  {
   "cell_type": "code",
   "execution_count": null,
   "id": "e769424a-4a24-46db-9c1a-3c32980004d6",
   "metadata": {},
   "outputs": [],
   "source": []
  }
 ],
 "metadata": {
  "kernelspec": {
   "display_name": "Python 3 (ipykernel)",
   "language": "python",
   "name": "python3"
  },
  "language_info": {
   "codemirror_mode": {
    "name": "ipython",
    "version": 3
   },
   "file_extension": ".py",
   "mimetype": "text/x-python",
   "name": "python",
   "nbconvert_exporter": "python",
   "pygments_lexer": "ipython3",
   "version": "3.11.7"
  },
  "widgets": {
   "application/vnd.jupyter.widget-state+json": {
    "state": {},
    "version_major": 2,
    "version_minor": 0
   }
  }
 },
 "nbformat": 4,
 "nbformat_minor": 5
}
